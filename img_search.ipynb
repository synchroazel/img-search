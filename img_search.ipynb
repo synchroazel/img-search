{
 "cells": [
  {
   "cell_type": "code",
   "execution_count": 1,
   "metadata": {
    "collapsed": true,
    "pycharm": {
     "name": "#%%\n"
    }
   },
   "outputs": [],
   "source": [
    "# standard imports\n",
    "import numpy as np\n",
    "import os\n",
    "import random\n",
    "\n",
    "# utils\n",
    "from tqdm import tqdm\n",
    "from numpy.linalg import norm\n",
    "from matplotlib import rcParams\n",
    "from scipy.spatial import distance\n",
    "import matplotlib.pyplot as plt\n",
    "import matplotlib.image as mpimg\n",
    "\n",
    "# sklearn\n",
    "from sklearn.cluster import KMeans\n",
    "from sklearn.neighbors import NearestNeighbors\n",
    "\n",
    "# tensorflow\n",
    "import tensorflow as tf\n",
    "from tensorflow.keras import layers\n",
    "from tensorflow.keras.preprocessing import image\n",
    "from tensorflow.keras.applications.resnet50 import ResNet50, preprocess_input"
   ]
  },
  {
   "cell_type": "code",
   "execution_count": 2,
   "metadata": {
    "pycharm": {
     "name": "#%%\n"
    }
   },
   "outputs": [
    {
     "name": "stdout",
     "output_type": "stream",
     "text": [
      "Available devices:\n",
      "PhysicalDevice(name='/physical_device:CPU:0', device_type='CPU')\n",
      "PhysicalDevice(name='/physical_device:GPU:0', device_type='GPU')\n"
     ]
    }
   ],
   "source": [
    "# Just listing available devices to use with tensorflow\n",
    "\n",
    "print('Available devices:')\n",
    "for device in tf.config.list_physical_devices():\n",
    "    print(device)"
   ]
  },
  {
   "cell_type": "code",
   "execution_count": 3,
   "metadata": {
    "pycharm": {
     "name": "#%%\n"
    }
   },
   "outputs": [
    {
     "name": "stdout",
     "output_type": "stream",
     "text": [
      "Loaded 2500 from dataset/training images\n",
      "Loaded 750 from dataset/validation/gallery images\n",
      "Loaded 100 from dataset/validation/query images\n"
     ]
    }
   ],
   "source": [
    "# To handle validation directories\n",
    "\n",
    "class Dataset(object):\n",
    "    def __init__(self, data_path):\n",
    "        self.data_path = data_path\n",
    "        assert os.path.exists(self.data_path), 'Insert a valid path!'\n",
    "\n",
    "        # get class list\n",
    "        self.data_classes = os.listdir(self.data_path)\n",
    "\n",
    "        # init mapping dict\n",
    "        self.data_mapping = {}\n",
    "\n",
    "        # populate mapping dict\n",
    "        for c, c_name in enumerate(self.data_classes):\n",
    "            temp_path = os.path.join(self.data_path, c_name)\n",
    "            # return filenames of all images\n",
    "            temp_images = os.listdir(temp_path)\n",
    "\n",
    "            for i in temp_images:\n",
    "                img_tmp = os.path.join(temp_path, i)  # each image path\n",
    "\n",
    "                if img_tmp.lower().endswith(('.jpg', '.jpeg')):\n",
    "                    if c_name == 'distractor':\n",
    "                        self.data_mapping[img_tmp] = -1\n",
    "                    else:\n",
    "                        self.data_mapping[img_tmp] = c_name\n",
    "\n",
    "        print(f'Loaded {len(self.data_mapping.keys())} from {self.data_path} images')\n",
    "\n",
    "    def get_data_paths(self):\n",
    "        # returns a list of img paths and related classes\n",
    "        images = []\n",
    "        classes = []\n",
    "        for img_path in self.data_mapping.keys():\n",
    "            if img_path.lower().endswith(('.jpg', '.jpeg')):\n",
    "                images.append(img_path)\n",
    "                classes.append(self.data_mapping[img_path])\n",
    "        return images, np.array(classes)\n",
    "\n",
    "    def num_classes(self):\n",
    "        # returns number of classes of the dataset\n",
    "        return len(self.data_classes)\n",
    "\n",
    "# define paths for all folders\n",
    "data_path = 'dataset'\n",
    "training_path = os.path.join(data_path, 'training')\n",
    "validation_path = os.path.join(data_path, 'validation')\n",
    "gallery_path = os.path.join(validation_path, 'gallery')\n",
    "query_path = os.path.join(validation_path, 'query')\n",
    "\n",
    "# create 'Dataset' objects for each folder\n",
    "training_dataset = Dataset(training_path)\n",
    "gallery_dataset = Dataset(gallery_path)\n",
    "query_dataset = Dataset(query_path)\n",
    "\n",
    "# get training/gallery/query data paths and classes\n",
    "training_paths, training_classes = training_dataset.get_data_paths()\n",
    "gallery_paths, gallery_classes = gallery_dataset.get_data_paths()\n",
    "query_paths, query_classes = query_dataset.get_data_paths()"
   ]
  },
  {
   "cell_type": "code",
   "execution_count": 4,
   "metadata": {
    "pycharm": {
     "name": "#%%\n"
    }
   },
   "outputs": [
    {
     "name": "stdout",
     "output_type": "stream",
     "text": [
      "Metal device set to: Apple M1 Pro\n"
     ]
    },
    {
     "name": "stderr",
     "output_type": "stream",
     "text": [
      "2022-05-01 11:10:28.961516: I tensorflow/core/common_runtime/pluggable_device/pluggable_device_factory.cc:305] Could not identify NUMA node of platform GPU ID 0, defaulting to 0. Your kernel may not have been built with NUMA support.\n",
      "2022-05-01 11:10:28.961996: I tensorflow/core/common_runtime/pluggable_device/pluggable_device_factory.cc:271] Created TensorFlow device (/job:localhost/replica:0/task:0/device:GPU:0 with 0 MB memory) -> physical PluggableDevice (device: 0, name: METAL, pci bus id: <undefined>)\n"
     ]
    }
   ],
   "source": [
    "# Initialize the ResNet50 backbone\n",
    "\n",
    "resnet = ResNet50(weights='imagenet',\n",
    "                  include_top=False,\n",
    "                  input_shape=(224, 224, 3))"
   ]
  },
  {
   "cell_type": "code",
   "execution_count": 7,
   "outputs": [],
   "source": [
    "# freeze the ResNet50\n",
    "resnet.trainable = False\n",
    "\n",
    "# initialize OUR model on top of it\n",
    "inputs = tf.keras.Input(shape=(224, 224, 3))\n",
    "x = resnet(inputs, training=False)\n",
    "x = layers.Flatten(name='flatten2')(x)\n",
    "x = layers.Dense(10, activation='softmax', name='dense5', kernel_regularizer='l1_l2')(x)\n",
    "outputs = layers.Dropout(0.1, seed = 999)(x)\n",
    "\n",
    "model = tf.keras.Model(inputs, outputs)"
   ],
   "metadata": {
    "collapsed": false,
    "pycharm": {
     "name": "#%%\n"
    }
   }
  },
  {
   "cell_type": "code",
   "execution_count": 8,
   "outputs": [
    {
     "name": "stdout",
     "output_type": "stream",
     "text": [
      "Found 2500 files belonging to 10 classes.\n",
      "Using 2000 files for training.\n",
      "Found 2500 files belonging to 10 classes.\n",
      "Using 500 files for validation.\n"
     ]
    }
   ],
   "source": [
    "# Prepare training data\n",
    "\n",
    "train_ds = tf.keras.utils.image_dataset_from_directory(\n",
    "    training_path,\n",
    "    labels='inferred',\n",
    "    validation_split=0.2,\n",
    "    subset=\"training\",\n",
    "    color_mode=\"rgb\",\n",
    "    seed = 99,\n",
    "    image_size=(224, 224),\n",
    "    batch_size=32\n",
    ")\n",
    "\n",
    "val_ds = tf.keras.utils.image_dataset_from_directory(\n",
    "    training_path,\n",
    "    labels='inferred',\n",
    "    validation_split=0.2,\n",
    "    subset=\"validation\",\n",
    "    color_mode=\"rgb\",\n",
    "    seed = 99,\n",
    "    image_size=(224, 224),\n",
    "    batch_size=32\n",
    ")"
   ],
   "metadata": {
    "collapsed": false,
    "pycharm": {
     "name": "#%%\n"
    }
   }
  },
  {
   "cell_type": "code",
   "execution_count": 31,
   "outputs": [
    {
     "name": "stdout",
     "output_type": "stream",
     "text": [
      "Epoch 1/100\n"
     ]
    },
    {
     "name": "stderr",
     "output_type": "stream",
     "text": [
      "2022-04-30 19:11:50.541116: I tensorflow/core/grappler/optimizers/custom_graph_optimizer_registry.cc:113] Plugin optimizer for device_type GPU is enabled.\n"
     ]
    },
    {
     "name": "stdout",
     "output_type": "stream",
     "text": [
      "63/63 [==============================] - ETA: 0s - loss: 42.1593 - accuracy: 0.2785"
     ]
    },
    {
     "name": "stderr",
     "output_type": "stream",
     "text": [
      "2022-04-30 19:12:00.784196: I tensorflow/core/grappler/optimizers/custom_graph_optimizer_registry.cc:113] Plugin optimizer for device_type GPU is enabled.\n"
     ]
    },
    {
     "name": "stdout",
     "output_type": "stream",
     "text": [
      "63/63 [==============================] - 14s 201ms/step - loss: 42.1593 - accuracy: 0.2785 - val_loss: 39.2965 - val_accuracy: 0.5260\n",
      "Epoch 2/100\n",
      "63/63 [==============================] - 12s 186ms/step - loss: 38.8852 - accuracy: 0.6605 - val_loss: 37.3344 - val_accuracy: 0.6940\n",
      "Epoch 3/100\n",
      "63/63 [==============================] - 12s 186ms/step - loss: 37.0709 - accuracy: 0.8060 - val_loss: 35.6788 - val_accuracy: 0.7420\n",
      "Epoch 4/100\n",
      "63/63 [==============================] - 12s 186ms/step - loss: 35.2006 - accuracy: 0.8690 - val_loss: 34.0564 - val_accuracy: 0.7980\n",
      "Epoch 5/100\n",
      "63/63 [==============================] - 12s 186ms/step - loss: 33.5619 - accuracy: 0.8920 - val_loss: 32.4378 - val_accuracy: 0.8120\n",
      "Epoch 6/100\n",
      "63/63 [==============================] - 12s 186ms/step - loss: 31.8676 - accuracy: 0.9105 - val_loss: 30.8296 - val_accuracy: 0.8280\n",
      "Epoch 7/100\n",
      "63/63 [==============================] - 12s 187ms/step - loss: 30.2825 - accuracy: 0.9035 - val_loss: 29.1959 - val_accuracy: 0.8540\n",
      "Epoch 8/100\n",
      "63/63 [==============================] - 12s 187ms/step - loss: 28.6547 - accuracy: 0.9140 - val_loss: 27.5869 - val_accuracy: 0.8700\n",
      "Epoch 9/100\n",
      "63/63 [==============================] - 12s 187ms/step - loss: 26.8720 - accuracy: 0.9295 - val_loss: 26.0321 - val_accuracy: 0.8600\n",
      "Epoch 10/100\n",
      "63/63 [==============================] - 12s 187ms/step - loss: 25.4768 - accuracy: 0.9130 - val_loss: 24.4711 - val_accuracy: 0.8760\n",
      "Epoch 11/100\n",
      "63/63 [==============================] - 12s 189ms/step - loss: 23.8318 - accuracy: 0.9260 - val_loss: 22.9600 - val_accuracy: 0.8940\n",
      "Epoch 12/100\n",
      "63/63 [==============================] - 12s 187ms/step - loss: 22.3782 - accuracy: 0.9180 - val_loss: 21.5311 - val_accuracy: 0.8860\n",
      "Epoch 13/100\n",
      "63/63 [==============================] - 12s 187ms/step - loss: 21.0711 - accuracy: 0.9120 - val_loss: 20.1387 - val_accuracy: 0.9060\n",
      "Epoch 14/100\n",
      "63/63 [==============================] - 12s 187ms/step - loss: 19.6410 - accuracy: 0.9180 - val_loss: 18.8378 - val_accuracy: 0.8980\n",
      "Epoch 15/100\n",
      "63/63 [==============================] - 12s 187ms/step - loss: 18.3676 - accuracy: 0.9175 - val_loss: 17.5711 - val_accuracy: 0.9000\n",
      "Epoch 16/100\n",
      "63/63 [==============================] - 12s 187ms/step - loss: 17.1564 - accuracy: 0.9150 - val_loss: 16.4182 - val_accuracy: 0.9040\n",
      "Epoch 17/100\n",
      "63/63 [==============================] - 12s 187ms/step - loss: 15.9798 - accuracy: 0.9230 - val_loss: 15.2763 - val_accuracy: 0.9100\n",
      "Epoch 18/100\n",
      "63/63 [==============================] - 12s 187ms/step - loss: 14.8320 - accuracy: 0.9190 - val_loss: 14.2280 - val_accuracy: 0.9180\n",
      "Epoch 19/100\n",
      "63/63 [==============================] - 12s 187ms/step - loss: 13.9224 - accuracy: 0.9110 - val_loss: 13.2407 - val_accuracy: 0.9080\n",
      "Epoch 20/100\n",
      "63/63 [==============================] - 12s 187ms/step - loss: 12.8889 - accuracy: 0.9225 - val_loss: 12.3205 - val_accuracy: 0.9060\n",
      "Epoch 21/100\n",
      "63/63 [==============================] - 12s 187ms/step - loss: 12.0570 - accuracy: 0.9120 - val_loss: 11.4638 - val_accuracy: 0.9200\n",
      "Epoch 22/100\n",
      "63/63 [==============================] - 12s 186ms/step - loss: 11.2291 - accuracy: 0.9070 - val_loss: 10.6555 - val_accuracy: 0.9120\n",
      "Epoch 23/100\n",
      "63/63 [==============================] - 12s 187ms/step - loss: 10.4366 - accuracy: 0.9170 - val_loss: 9.9007 - val_accuracy: 0.9120\n",
      "Epoch 24/100\n",
      "63/63 [==============================] - 12s 187ms/step - loss: 9.7141 - accuracy: 0.9205 - val_loss: 9.1910 - val_accuracy: 0.9200\n",
      "Epoch 25/100\n",
      "63/63 [==============================] - 12s 187ms/step - loss: 9.0495 - accuracy: 0.9145 - val_loss: 8.5640 - val_accuracy: 0.9160\n",
      "Epoch 26/100\n",
      "63/63 [==============================] - 12s 187ms/step - loss: 8.3879 - accuracy: 0.9175 - val_loss: 7.9456 - val_accuracy: 0.9200\n",
      "Epoch 27/100\n",
      "63/63 [==============================] - 12s 188ms/step - loss: 7.8197 - accuracy: 0.9220 - val_loss: 7.3758 - val_accuracy: 0.9240\n",
      "Epoch 28/100\n",
      "63/63 [==============================] - 12s 187ms/step - loss: 7.2621 - accuracy: 0.9200 - val_loss: 6.8598 - val_accuracy: 0.9220\n",
      "Epoch 29/100\n",
      "63/63 [==============================] - 12s 186ms/step - loss: 6.7504 - accuracy: 0.9210 - val_loss: 6.3954 - val_accuracy: 0.9200\n",
      "Epoch 30/100\n",
      "63/63 [==============================] - 12s 187ms/step - loss: 6.3399 - accuracy: 0.9125 - val_loss: 5.9578 - val_accuracy: 0.9200\n",
      "Epoch 31/100\n",
      "63/63 [==============================] - 12s 187ms/step - loss: 5.9143 - accuracy: 0.9155 - val_loss: 5.5519 - val_accuracy: 0.9240\n",
      "Epoch 32/100\n",
      "63/63 [==============================] - 12s 187ms/step - loss: 5.5611 - accuracy: 0.9145 - val_loss: 5.1847 - val_accuracy: 0.9220\n",
      "Epoch 33/100\n",
      "63/63 [==============================] - 12s 188ms/step - loss: 5.1077 - accuracy: 0.9295 - val_loss: 4.8185 - val_accuracy: 0.9260\n",
      "Epoch 34/100\n",
      "63/63 [==============================] - 12s 187ms/step - loss: 4.8080 - accuracy: 0.9150 - val_loss: 4.5166 - val_accuracy: 0.9320\n",
      "Epoch 35/100\n",
      "63/63 [==============================] - 12s 187ms/step - loss: 4.5367 - accuracy: 0.9205 - val_loss: 4.2255 - val_accuracy: 0.9260\n",
      "Epoch 36/100\n",
      "63/63 [==============================] - 12s 187ms/step - loss: 4.2276 - accuracy: 0.9225 - val_loss: 3.9620 - val_accuracy: 0.9180\n",
      "Epoch 37/100\n",
      "63/63 [==============================] - 12s 187ms/step - loss: 3.9894 - accuracy: 0.9185 - val_loss: 3.7138 - val_accuracy: 0.9240\n",
      "Epoch 38/100\n",
      "63/63 [==============================] - 12s 186ms/step - loss: 3.8551 - accuracy: 0.9090 - val_loss: 3.5003 - val_accuracy: 0.9180\n",
      "Epoch 39/100\n",
      "63/63 [==============================] - 12s 187ms/step - loss: 3.5837 - accuracy: 0.9250 - val_loss: 3.2928 - val_accuracy: 0.9220\n",
      "Epoch 40/100\n",
      "63/63 [==============================] - 12s 187ms/step - loss: 3.3719 - accuracy: 0.9200 - val_loss: 3.0814 - val_accuracy: 0.9260\n",
      "Epoch 41/100\n",
      "63/63 [==============================] - 12s 188ms/step - loss: 3.2548 - accuracy: 0.9120 - val_loss: 2.9219 - val_accuracy: 0.9260\n",
      "Epoch 42/100\n",
      "63/63 [==============================] - 12s 190ms/step - loss: 3.0760 - accuracy: 0.9175 - val_loss: 2.7901 - val_accuracy: 0.9220\n",
      "Epoch 43/100\n",
      "63/63 [==============================] - 12s 184ms/step - loss: 2.9699 - accuracy: 0.9080 - val_loss: 2.6454 - val_accuracy: 0.9340\n",
      "Epoch 44/100\n",
      "63/63 [==============================] - 12s 190ms/step - loss: 2.8276 - accuracy: 0.9100 - val_loss: 2.5262 - val_accuracy: 0.9200\n",
      "Epoch 45/100\n",
      "63/63 [==============================] - 12s 187ms/step - loss: 2.6965 - accuracy: 0.9110 - val_loss: 2.3762 - val_accuracy: 0.9300\n",
      "Epoch 46/100\n",
      "63/63 [==============================] - 12s 187ms/step - loss: 2.5229 - accuracy: 0.9250 - val_loss: 2.2718 - val_accuracy: 0.9240\n",
      "Epoch 47/100\n",
      "63/63 [==============================] - 12s 187ms/step - loss: 2.3664 - accuracy: 0.9295 - val_loss: 2.1582 - val_accuracy: 0.9240\n",
      "Epoch 48/100\n",
      "63/63 [==============================] - 12s 186ms/step - loss: 2.3471 - accuracy: 0.9140 - val_loss: 2.0730 - val_accuracy: 0.9260\n",
      "Epoch 49/100\n",
      "63/63 [==============================] - 12s 187ms/step - loss: 2.2537 - accuracy: 0.9135 - val_loss: 1.9790 - val_accuracy: 0.9280\n",
      "Epoch 50/100\n",
      "63/63 [==============================] - 12s 187ms/step - loss: 2.2164 - accuracy: 0.9105 - val_loss: 1.9297 - val_accuracy: 0.9300\n",
      "Epoch 51/100\n",
      "63/63 [==============================] - 12s 187ms/step - loss: 2.1746 - accuracy: 0.9185 - val_loss: 1.8520 - val_accuracy: 0.9260\n",
      "Epoch 52/100\n",
      "63/63 [==============================] - 12s 187ms/step - loss: 2.0800 - accuracy: 0.9155 - val_loss: 1.7843 - val_accuracy: 0.9220\n",
      "Epoch 53/100\n",
      "63/63 [==============================] - 12s 187ms/step - loss: 1.9840 - accuracy: 0.9140 - val_loss: 1.7143 - val_accuracy: 0.9160\n",
      "Epoch 54/100\n",
      "63/63 [==============================] - 12s 188ms/step - loss: 1.9404 - accuracy: 0.9160 - val_loss: 1.6879 - val_accuracy: 0.9180\n",
      "Epoch 55/100\n",
      "63/63 [==============================] - 12s 187ms/step - loss: 1.8711 - accuracy: 0.9220 - val_loss: 1.5972 - val_accuracy: 0.9200\n",
      "Epoch 56/100\n",
      "63/63 [==============================] - 12s 187ms/step - loss: 1.8343 - accuracy: 0.9190 - val_loss: 1.5747 - val_accuracy: 0.9180\n",
      "Epoch 57/100\n",
      "63/63 [==============================] - 12s 187ms/step - loss: 1.7431 - accuracy: 0.9260 - val_loss: 1.5056 - val_accuracy: 0.9220\n",
      "Epoch 58/100\n",
      "63/63 [==============================] - 12s 187ms/step - loss: 1.8364 - accuracy: 0.9095 - val_loss: 1.4828 - val_accuracy: 0.9180\n",
      "Epoch 59/100\n",
      "63/63 [==============================] - 12s 187ms/step - loss: 1.7503 - accuracy: 0.9040 - val_loss: 1.4427 - val_accuracy: 0.9140\n",
      "Epoch 60/100\n",
      "63/63 [==============================] - 12s 188ms/step - loss: 1.7324 - accuracy: 0.9120 - val_loss: 1.4007 - val_accuracy: 0.9140\n",
      "Epoch 61/100\n",
      "63/63 [==============================] - 12s 186ms/step - loss: 1.6502 - accuracy: 0.9255 - val_loss: 1.3840 - val_accuracy: 0.9060\n",
      "Epoch 62/100\n",
      "63/63 [==============================] - 12s 187ms/step - loss: 1.6876 - accuracy: 0.9135 - val_loss: 1.3335 - val_accuracy: 0.9220\n",
      "Epoch 63/100\n",
      "63/63 [==============================] - 12s 188ms/step - loss: 1.6680 - accuracy: 0.9100 - val_loss: 1.3106 - val_accuracy: 0.9200\n",
      "Epoch 64/100\n",
      "63/63 [==============================] - 12s 187ms/step - loss: 1.6033 - accuracy: 0.9095 - val_loss: 1.2788 - val_accuracy: 0.9280\n",
      "Epoch 65/100\n",
      "63/63 [==============================] - 12s 187ms/step - loss: 1.6341 - accuracy: 0.9110 - val_loss: 1.2712 - val_accuracy: 0.9160\n",
      "Epoch 66/100\n",
      "63/63 [==============================] - 12s 186ms/step - loss: 1.5410 - accuracy: 0.9100 - val_loss: 1.2403 - val_accuracy: 0.9200\n",
      "Epoch 67/100\n",
      "63/63 [==============================] - 12s 187ms/step - loss: 1.5571 - accuracy: 0.9155 - val_loss: 1.2294 - val_accuracy: 0.9260\n",
      "Epoch 68/100\n",
      "63/63 [==============================] - 12s 187ms/step - loss: 1.5305 - accuracy: 0.9115 - val_loss: 1.1915 - val_accuracy: 0.9240\n",
      "Epoch 69/100\n",
      "63/63 [==============================] - 12s 187ms/step - loss: 1.5249 - accuracy: 0.9150 - val_loss: 1.1870 - val_accuracy: 0.9180\n",
      "Epoch 70/100\n",
      "63/63 [==============================] - 12s 187ms/step - loss: 1.4956 - accuracy: 0.9095 - val_loss: 1.1691 - val_accuracy: 0.9120\n",
      "Epoch 71/100\n",
      "63/63 [==============================] - 12s 187ms/step - loss: 1.3644 - accuracy: 0.9245 - val_loss: 1.1342 - val_accuracy: 0.9140\n",
      "Epoch 72/100\n",
      "63/63 [==============================] - 12s 187ms/step - loss: 1.3542 - accuracy: 0.9205 - val_loss: 1.1075 - val_accuracy: 0.9240\n",
      "Epoch 73/100\n",
      "63/63 [==============================] - 12s 187ms/step - loss: 1.3955 - accuracy: 0.9180 - val_loss: 1.0961 - val_accuracy: 0.9060\n",
      "Epoch 74/100\n",
      "63/63 [==============================] - 12s 187ms/step - loss: 1.3962 - accuracy: 0.9255 - val_loss: 1.0959 - val_accuracy: 0.9200\n",
      "Epoch 75/100\n",
      "63/63 [==============================] - 12s 187ms/step - loss: 1.4267 - accuracy: 0.9065 - val_loss: 1.0849 - val_accuracy: 0.9260\n",
      "Epoch 76/100\n",
      "63/63 [==============================] - 12s 187ms/step - loss: 1.3741 - accuracy: 0.9205 - val_loss: 1.0667 - val_accuracy: 0.9080\n",
      "Epoch 77/100\n",
      "63/63 [==============================] - 12s 187ms/step - loss: 1.4239 - accuracy: 0.9135 - val_loss: 1.0680 - val_accuracy: 0.9120\n",
      "Epoch 78/100\n",
      "63/63 [==============================] - 12s 187ms/step - loss: 1.3856 - accuracy: 0.9105 - val_loss: 1.0395 - val_accuracy: 0.9280\n",
      "Epoch 79/100\n",
      "63/63 [==============================] - 12s 187ms/step - loss: 1.4042 - accuracy: 0.9120 - val_loss: 1.0396 - val_accuracy: 0.9240\n",
      "Epoch 80/100\n",
      "63/63 [==============================] - 12s 187ms/step - loss: 1.3768 - accuracy: 0.9130 - val_loss: 1.0523 - val_accuracy: 0.9200\n",
      "Epoch 81/100\n",
      "63/63 [==============================] - 12s 187ms/step - loss: 1.4049 - accuracy: 0.9085 - val_loss: 1.0247 - val_accuracy: 0.9300\n",
      "Epoch 82/100\n",
      "63/63 [==============================] - 12s 187ms/step - loss: 1.2373 - accuracy: 0.9260 - val_loss: 0.9810 - val_accuracy: 0.9280\n",
      "Epoch 83/100\n",
      "63/63 [==============================] - 12s 187ms/step - loss: 1.3050 - accuracy: 0.9130 - val_loss: 0.9984 - val_accuracy: 0.9160\n",
      "Epoch 84/100\n",
      "63/63 [==============================] - 12s 188ms/step - loss: 1.2491 - accuracy: 0.9175 - val_loss: 0.9973 - val_accuracy: 0.9160\n",
      "Epoch 85/100\n",
      "63/63 [==============================] - 12s 187ms/step - loss: 1.2813 - accuracy: 0.9210 - val_loss: 0.9738 - val_accuracy: 0.9200\n",
      "Epoch 86/100\n",
      "63/63 [==============================] - 12s 187ms/step - loss: 1.2594 - accuracy: 0.9320 - val_loss: 0.9598 - val_accuracy: 0.9180\n",
      "Epoch 87/100\n",
      "63/63 [==============================] - 12s 187ms/step - loss: 1.2567 - accuracy: 0.9175 - val_loss: 0.9581 - val_accuracy: 0.9160\n",
      "Epoch 88/100\n",
      "63/63 [==============================] - 12s 187ms/step - loss: 1.2017 - accuracy: 0.9265 - val_loss: 0.9752 - val_accuracy: 0.9060\n",
      "Epoch 89/100\n",
      "63/63 [==============================] - 12s 187ms/step - loss: 1.2696 - accuracy: 0.9130 - val_loss: 0.9526 - val_accuracy: 0.9180\n",
      "Epoch 90/100\n",
      "63/63 [==============================] - 12s 187ms/step - loss: 1.2453 - accuracy: 0.9210 - val_loss: 0.9375 - val_accuracy: 0.9200\n",
      "Epoch 91/100\n",
      "63/63 [==============================] - 12s 187ms/step - loss: 1.2682 - accuracy: 0.9095 - val_loss: 0.9651 - val_accuracy: 0.9100\n",
      "Epoch 92/100\n",
      "63/63 [==============================] - 12s 188ms/step - loss: 1.2977 - accuracy: 0.9100 - val_loss: 0.9641 - val_accuracy: 0.9220\n",
      "Epoch 93/100\n",
      "63/63 [==============================] - 12s 187ms/step - loss: 1.1738 - accuracy: 0.9240 - val_loss: 0.9506 - val_accuracy: 0.9220\n",
      "Epoch 94/100\n",
      "63/63 [==============================] - 12s 187ms/step - loss: 1.2964 - accuracy: 0.9085 - val_loss: 0.9422 - val_accuracy: 0.9220\n",
      "Epoch 95/100\n",
      "63/63 [==============================] - 12s 187ms/step - loss: 1.2584 - accuracy: 0.9160 - val_loss: 0.9213 - val_accuracy: 0.9200\n",
      "Epoch 96/100\n",
      "63/63 [==============================] - 12s 186ms/step - loss: 1.3241 - accuracy: 0.9080 - val_loss: 0.9687 - val_accuracy: 0.9080\n",
      "Epoch 97/100\n",
      "63/63 [==============================] - 12s 187ms/step - loss: 1.2363 - accuracy: 0.9065 - val_loss: 0.9289 - val_accuracy: 0.9240\n",
      "Epoch 98/100\n",
      "63/63 [==============================] - 12s 187ms/step - loss: 1.2805 - accuracy: 0.9075 - val_loss: 0.9470 - val_accuracy: 0.9200\n",
      "Epoch 99/100\n",
      "63/63 [==============================] - 12s 187ms/step - loss: 1.2751 - accuracy: 0.9135 - val_loss: 0.9286 - val_accuracy: 0.9180\n",
      "Epoch 100/100\n",
      "63/63 [==============================] - 12s 187ms/step - loss: 1.2609 - accuracy: 0.9120 - val_loss: 0.9314 - val_accuracy: 0.9120\n"
     ]
    }
   ],
   "source": [
    "# Compile and fit model\n",
    "\n",
    "model.compile(optimizer=tf.keras.optimizers.Adam(1e-5),\n",
    "              loss=tf.keras.losses.SparseCategoricalCrossentropy(),\n",
    "              metrics=['accuracy'])  # tf.keras.metrics.CategoricalAccuracy()\n",
    "\n",
    "history = model.fit(train_ds, validation_data=val_ds, epochs=50)"
   ],
   "metadata": {
    "collapsed": false,
    "pycharm": {
     "name": "#%%\n"
    }
   }
  },
  {
   "cell_type": "code",
   "execution_count": 32,
   "outputs": [
    {
     "data": {
      "text/plain": "<Figure size 1080x540 with 2 Axes>",
      "image/png": "[encoded data removed]"
     },
     "metadata": {
      "needs_background": "light"
     },
     "output_type": "display_data"
    }
   ],
   "source": [
    "# Plot model training history\n",
    "\n",
    "fig, axes = plt.subplots(nrows=1, ncols=2, figsize=(15, 7.5))\n",
    "\n",
    "axes[0].plot(history.history['accuracy'])\n",
    "axes[0].plot(history.history['val_accuracy'])\n",
    "axes[0].set_title('Accuracy\\n(Categorical Accuracy)')\n",
    "axes[0].set_ylabel('accuracy')\n",
    "axes[0].set_xlabel('epoch')\n",
    "axes[0].legend(['train', 'test'], loc='upper left')\n",
    "\n",
    "axes[1].plot(history.history['loss'])\n",
    "axes[1].plot(history.history['val_loss'])\n",
    "axes[1].set_title('Loss\\n(Categorical CrossEntropy)')\n",
    "axes[1].set_ylabel('loss')\n",
    "axes[1].set_xlabel('epoch')\n",
    "axes[1].legend(['train', 'test'], loc='upper left')\n",
    "\n",
    "#fig.tight_layout()\n",
    "plt.show()"
   ],
   "metadata": {
    "collapsed": false,
    "pycharm": {
     "name": "#%%\n"
    }
   }
  },
  {
   "cell_type": "code",
   "execution_count": 33,
   "outputs": [
    {
     "name": "stderr",
     "output_type": "stream",
     "text": [
      "Extracting gallery set features\t :   0%|          | 0/750 [00:00<?, ?it/s]2022-04-30 19:31:38.543936: I tensorflow/core/grappler/optimizers/custom_graph_optimizer_registry.cc:113] Plugin optimizer for device_type GPU is enabled.\n",
      "Extracting gallery set features\t : 100%|██████████| 750/750 [00:28<00:00, 26.76it/s]\n",
      "Extracting query set features\t : 100%|██████████| 100/100 [00:03<00:00, 26.53it/s]\n"
     ]
    }
   ],
   "source": [
    "# Extract features from test images\n",
    "\n",
    "def extract_features(img_path, model):\n",
    "    input_shape = (224, 224, 3)\n",
    "    img = image.load_img(img_path, target_size=(input_shape[0], input_shape[1]))\n",
    "    img_array = image.img_to_array(img)\n",
    "    expanded_img_array = np.expand_dims(img_array, axis=0)\n",
    "    preprocessed_img = preprocess_input(expanded_img_array)\n",
    "    features = model.predict(preprocessed_img)\n",
    "    flattened_features = features.flatten()\n",
    "    normalized_features = flattened_features / norm(flattened_features)\n",
    "    return normalized_features\n",
    "\n",
    "training_feats = list()\n",
    "gallery_feats = list()\n",
    "query_feats = list()\n",
    "\n",
    "with tf.device('/device:gpu:0'):\n",
    "\n",
    "    for i in tqdm(range(len(gallery_paths)), desc='Extracting gallery set features\\t '):\n",
    "        gallery_feats.append(extract_features(gallery_paths[i], model))\n",
    "\n",
    "    for i in tqdm(range(len(query_paths)), desc='Extracting query set features\\t '):\n",
    "        query_feats.append(extract_features(query_paths[i], model))"
   ],
   "metadata": {
    "collapsed": false,
    "pycharm": {
     "name": "#%%\n"
    }
   }
  },
  {
   "cell_type": "code",
   "execution_count": 34,
   "metadata": {
    "pycharm": {
     "name": "#%%\n"
    }
   },
   "outputs": [],
   "source": [
    "# simulate a query-gallery search and evaluate it\n",
    "def make_query(i, quiet=False, visual=False):\n",
    "\n",
    "    kNN_model = NearestNeighbors(n_neighbors=10, algorithm='brute', metric='euclidean')\n",
    "    neighbors = kNN_model.fit(gallery_feats)\n",
    "\n",
    "    dists, ids = neighbors.kneighbors([query_feats[i]])\n",
    "\n",
    "    query_lab = query_dataset.data_mapping[query_paths[i]]\n",
    "\n",
    "    if visual:\n",
    "\n",
    "        plt.imshow(mpimg.imread(query_paths[i]))\n",
    "        plt.title('Queried image', {'color': 'white'})  # for dark mode!\n",
    "        plt.axis('off')\n",
    "\n",
    "        plt.show()\n",
    "\n",
    "        rcParams['figure.figsize'] = 15, 5\n",
    "\n",
    "        f, axarr = plt.subplots(2, 5)\n",
    "\n",
    "        n = 0\n",
    "        for r in range(2):\n",
    "            for c in range(5):\n",
    "                axarr[r, c].imshow(mpimg.imread(gallery_paths[ids[0][n]]))\n",
    "                axarr[r, c].axis('off')\n",
    "                n += 1\n",
    "\n",
    "        plt.show()\n",
    "\n",
    "    if not quiet:\n",
    "        print(f'Queried img:\\n{query_lab}')\n",
    "        print('\\nRetrieved imgs:')\n",
    "\n",
    "    matches = list()\n",
    "\n",
    "    for ind in ids[0]:\n",
    "\n",
    "        gallery_lab = gallery_dataset.data_mapping[gallery_paths[ind]]\n",
    "\n",
    "        if query_lab == gallery_lab:\n",
    "            matches.append(True)\n",
    "            if not quiet:\n",
    "                print(gallery_lab, '○')\n",
    "        else:\n",
    "            matches.append(False)\n",
    "            if not quiet:\n",
    "                print(gallery_lab, '✕')\n",
    "\n",
    "    top1acc, top3acc, top5acc = sum(matches[:1]) / 1, sum(matches[:3]) / 3, sum(matches[:5]) / 5\n",
    "\n",
    "    if not quiet:\n",
    "        print('\\nRESULTS')\n",
    "        print(f'Top-1 accuracy is: {top1acc}')\n",
    "        print(f'Top-3 accuracy is: {top3acc}')\n",
    "        print(f'Top-5 accuracy is: {top5acc}')\n",
    "\n",
    "    return top1acc, top3acc, top5acc\n",
    "\n",
    "# perform evaluation on whole query dataset\n",
    "def evaluation():\n",
    "\n",
    "    all_t1, all_t3, all_t5 = list(), list(), list()\n",
    "\n",
    "    for i in tqdm(range(len(query_feats)), desc='testing on all queries'):\n",
    "\n",
    "        t1, t3, t5 = make_query(i, quiet=True)\n",
    "\n",
    "        all_t1.append(t1)\n",
    "        all_t3.append(t3)\n",
    "        all_t5.append(t5)\n",
    "\n",
    "    print('RESULTS:')\n",
    "    print(f'top-1 accuracy: {round(np.mean(all_t1), 2)}')\n",
    "    print(f'top-3 accuracy: {round(np.mean(all_t3), 2)}')\n",
    "    print(f'top-5 accuracy: {round(np.mean(all_t5), 2)}')"
   ]
  },
  {
   "cell_type": "code",
   "execution_count": 35,
   "metadata": {
    "pycharm": {
     "name": "#%%\n"
    }
   },
   "outputs": [],
   "source": [
    "# just trying\n",
    "\n",
    "# i = random.randint(1,99)\n",
    "# make_query(i, visual=True)"
   ]
  },
  {
   "cell_type": "code",
   "execution_count": null,
   "outputs": [],
   "source": [
    "# How did the model score?\n",
    "\n",
    "evaluation()"
   ],
   "metadata": {
    "collapsed": false,
    "pycharm": {
     "name": "#%%\n",
     "is_executing": true
    }
   }
  }
 ],
 "metadata": {
  "kernelspec": {
   "display_name": "Python 3 (ipykernel)",
   "language": "python",
   "name": "python3"
  },
  "language_info": {
   "codemirror_mode": {
    "name": "ipython",
    "version": 3
   },
   "file_extension": ".py",
   "mimetype": "text/x-python",
   "name": "python",
   "nbconvert_exporter": "python",
   "pygments_lexer": "ipython3",
   "version": "3.9.12"
  }
 },
 "nbformat": 4,
 "nbformat_minor": 1
}